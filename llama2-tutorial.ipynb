{
 "cells": [
  {
   "cell_type": "markdown",
   "id": "2d8fe434",
   "metadata": {},
   "source": [
    "## An open source large language model"
   ]
  },
  {
   "cell_type": "markdown",
   "id": "32fb23ce",
   "metadata": {},
   "source": [
    "By Danilo Soares"
   ]
  },
  {
   "cell_type": "markdown",
   "id": "543a7dca",
   "metadata": {},
   "source": [
    "### Install replicate"
   ]
  },
  {
   "cell_type": "code",
   "execution_count": 18,
   "id": "c9138f04",
   "metadata": {
    "scrolled": true
   },
   "outputs": [
    {
     "name": "stdout",
     "output_type": "stream",
     "text": [
      "Requirement already satisfied: replicate in c:\\users\\danilo\\appdata\\local\\anaconda3\\lib\\site-packages (0.21.0)\n",
      "Requirement already satisfied: httpx<1,>=0.21.0 in c:\\users\\danilo\\appdata\\local\\anaconda3\\lib\\site-packages (from replicate) (0.25.2)\n",
      "Requirement already satisfied: packaging in c:\\users\\danilo\\appdata\\local\\anaconda3\\lib\\site-packages (from replicate) (23.1)\n",
      "Requirement already satisfied: pydantic>1 in c:\\users\\danilo\\appdata\\local\\anaconda3\\lib\\site-packages (from replicate) (1.10.8)\n",
      "Requirement already satisfied: typing-extensions>=4.5.0 in c:\\users\\danilo\\appdata\\local\\anaconda3\\lib\\site-packages (from replicate) (4.7.1)\n",
      "Requirement already satisfied: anyio in c:\\users\\danilo\\appdata\\local\\anaconda3\\lib\\site-packages (from httpx<1,>=0.21.0->replicate) (3.5.0)\n",
      "Requirement already satisfied: certifi in c:\\users\\danilo\\appdata\\local\\anaconda3\\lib\\site-packages (from httpx<1,>=0.21.0->replicate) (2023.11.17)\n",
      "Requirement already satisfied: httpcore==1.* in c:\\users\\danilo\\appdata\\local\\anaconda3\\lib\\site-packages (from httpx<1,>=0.21.0->replicate) (1.0.2)\n",
      "Requirement already satisfied: idna in c:\\users\\danilo\\appdata\\local\\anaconda3\\lib\\site-packages (from httpx<1,>=0.21.0->replicate) (3.4)\n",
      "Requirement already satisfied: sniffio in c:\\users\\danilo\\appdata\\local\\anaconda3\\lib\\site-packages (from httpx<1,>=0.21.0->replicate) (1.2.0)\n",
      "Requirement already satisfied: h11<0.15,>=0.13 in c:\\users\\danilo\\appdata\\local\\anaconda3\\lib\\site-packages (from httpcore==1.*->httpx<1,>=0.21.0->replicate) (0.14.0)\n"
     ]
    }
   ],
   "source": [
    "! pip install replicate"
   ]
  },
  {
   "cell_type": "markdown",
   "id": "8967245f",
   "metadata": {},
   "source": [
    "### Set replicate API token"
   ]
  },
  {
   "cell_type": "code",
   "execution_count": 26,
   "id": "332d992d",
   "metadata": {},
   "outputs": [
    {
     "name": "stdout",
     "output_type": "stream",
     "text": [
      "r8_YwtVPbpR14zDCJ4nU37g8QSI0rofCXs2kofBF\n"
     ]
    },
    {
     "data": {
      "text/plain": [
       "['https://replicate.delivery/pbxt/OcqTBxEkbBIQMhvu9RHz9wPvKUsyA2FNHeD6dUedjzscy4ejA/out-0.png']"
      ]
     },
     "execution_count": 26,
     "metadata": {},
     "output_type": "execute_result"
    }
   ],
   "source": [
    "import os\n",
    "\n",
    "os.environ[\"REPLICATE_API_TOKEN\"] = \"r8_Ywt********************************BF\"\n",
    "print(os.environ['REPLICATE_API_TOKEN'])\n"
   ]
  },
  {
   "cell_type": "markdown",
   "id": "363d6af6",
   "metadata": {},
   "source": [
    "### Run the Llama 2 model"
   ]
  },
  {
   "cell_type": "code",
   "execution_count": 27,
   "id": "4954e39f",
   "metadata": {},
   "outputs": [],
   "source": [
    "import replicate\n",
    "\n",
    "replicate = replicate.Client(api_token=os.environ['REPLICATE_API_TOKEN'])\n",
    "\n",
    "# Prompts\n",
    "pre_prompt = \"\"\"You are a helpful assistant. \n",
    "You do not respod as 'User' or pretend to be 'User'. You only repond once as 'Assistant'.\"\"\"\n",
    "prompt_input = \"What is Streamlit?\"\n",
    "\n",
    "\n",
    "\n",
    "# Generate LLM response\n",
    "output = replicate.run('a16z-infra/llama13b-v2-chat:df7690f1994d94e96ad9d568eac121aecf50684a0b0963b25a41cc40061269e5', # LLM model\n",
    "                      input={\"prompt\": f\"{pre_prompt} {prompt_input} Assistant: \", # Prompts\n",
    "                      \"temperature\":0.1, \"top_p\":0.9, \"max_length\":128, \"repetition_penalty\": 1}) # Model parameters\n",
    "\n"
   ]
  },
  {
   "cell_type": "markdown",
   "id": "675c0bfc",
   "metadata": {},
   "source": [
    "### Displaying the LLM gerenated response"
   ]
  },
  {
   "cell_type": "code",
   "execution_count": 28,
   "id": "0bbb614f",
   "metadata": {},
   "outputs": [
    {
     "data": {
      "text/plain": [
       "<generator object Prediction.output_iterator at 0x00000227B3F6B3D0>"
      ]
     },
     "execution_count": 28,
     "metadata": {},
     "output_type": "execute_result"
    }
   ],
   "source": [
    "output"
   ]
  },
  {
   "cell_type": "code",
   "execution_count": 31,
   "id": "23d08995",
   "metadata": {},
   "outputs": [
    {
     "name": "stdout",
     "output_type": "stream",
     "text": [
      "Streamlit is a Python library that allows you to create web applications with Python. It provides a simple and intuitive way to create web interfaces for data analysis, machine learning, and other scientific computing tasks. With Streamlit, you can create web apps that are interactive, responsive, and easy to use, and deploy them to the web or cloud with just a few lines of code.\n"
     ]
    }
   ],
   "source": [
    "full_response = ''\n",
    "\n",
    "for item in output:\n",
    "  full_response += item\n",
    "    \n",
    "print(full_response)"
   ]
  }
 ],
 "metadata": {
  "kernelspec": {
   "display_name": "Python 3 (ipykernel)",
   "language": "python",
   "name": "python3"
  },
  "language_info": {
   "codemirror_mode": {
    "name": "ipython",
    "version": 3
   },
   "file_extension": ".py",
   "mimetype": "text/x-python",
   "name": "python",
   "nbconvert_exporter": "python",
   "pygments_lexer": "ipython3",
   "version": "3.11.5"
  }
 },
 "nbformat": 4,
 "nbformat_minor": 5
}
